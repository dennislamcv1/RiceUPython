{
 "cells": [
  {
   "cell_type": "code",
   "execution_count": 1,
   "id": "36608cfc",
   "metadata": {},
   "outputs": [],
   "source": [
    "# Strings"
   ]
  },
  {
   "cell_type": "code",
   "execution_count": 2,
   "id": "5142bcd9",
   "metadata": {},
   "outputs": [],
   "source": [
    "def count_vowels(word):\n",
    "    # Define the set of lowercase vowels\n",
    "    vowels = \"aeiou\"\n",
    "    \n",
    "    # Initialize a counter for vowels\n",
    "    vowel_count = 0\n",
    "    \n",
    "    # Iterate through each character in the word\n",
    "    for char in word:\n",
    "        # Check if the character is a lowercase vowel\n",
    "        if char in vowels:\n",
    "            vowel_count += 1\n",
    "    \n",
    "    # Return the total count of lowercase vowels\n",
    "    return vowel_count\n"
   ]
  },
  {
   "cell_type": "code",
   "execution_count": 3,
   "id": "d245400f",
   "metadata": {},
   "outputs": [
    {
     "name": "stdout",
     "output_type": "stream",
     "text": [
      "13\n",
      "17\n"
     ]
    }
   ],
   "source": [
    "print(count_vowels(\"aaassseefffgggiiijjjoOOkkkuuuu\"))\n",
    "print(count_vowels(\"aovvouOucvicIIOveeOIclOeuvvauouuvciOIsle\"))"
   ]
  },
  {
   "cell_type": "code",
   "execution_count": 4,
   "id": "a2c676f1",
   "metadata": {},
   "outputs": [],
   "source": [
    "def demystify(l1_string):\n",
    "    # Replace 'l' with 'a' and '1' with 'b'\n",
    "    transformed_string = l1_string.replace('l', 'a').replace('1', 'b')\n",
    "    return transformed_string\n"
   ]
  },
  {
   "cell_type": "code",
   "execution_count": 5,
   "id": "69f06430",
   "metadata": {},
   "outputs": [
    {
     "name": "stdout",
     "output_type": "stream",
     "text": [
      "aaabbbabababbbbaaa\n",
      "bbbababbabbaaabaaabaaabbbbbaabbabaababbb\n"
     ]
    }
   ],
   "source": [
    "print(demystify(\"lll111l1l1l1111lll\"))\n",
    "print(demystify(\"111l1l11l11lll1lll1lll11111ll11l1ll1l111\"))"
   ]
  },
  {
   "cell_type": "code",
   "execution_count": 6,
   "id": "03a27e40",
   "metadata": {},
   "outputs": [],
   "source": [
    "# Lists"
   ]
  },
  {
   "cell_type": "code",
   "execution_count": 7,
   "id": "df869160",
   "metadata": {},
   "outputs": [],
   "source": [
    "def strange_sum(numbers):\n",
    "    total_sum = 0\n",
    "    for num in numbers:\n",
    "        if num % 3 != 0:\n",
    "            total_sum += num\n",
    "    return total_sum\n"
   ]
  },
  {
   "cell_type": "code",
   "execution_count": 8,
   "id": "e878db7b",
   "metadata": {},
   "outputs": [
    {
     "name": "stdout",
     "output_type": "stream",
     "text": [
      "24\n",
      "6994\n"
     ]
    }
   ],
   "source": [
    "print(strange_sum([1, 2, 3, 4, 5, 1, 2, 3, 4, 5]))\n",
    "print(strange_sum(list(range(123)) + list(range(77))))"
   ]
  },
  {
   "cell_type": "code",
   "execution_count": 9,
   "id": "f24aac7c",
   "metadata": {},
   "outputs": [],
   "source": [
    "# List Manipulation"
   ]
  },
  {
   "cell_type": "code",
   "execution_count": 10,
   "id": "a855bada",
   "metadata": {},
   "outputs": [
    {
     "name": "stdout",
     "output_type": "stream",
     "text": [
      "None\n"
     ]
    }
   ],
   "source": [
    "my_list = [1, 3, 5, 7, 9]\n",
    "my_list.reverse()\n",
    "print(my_list.reverse())"
   ]
  },
  {
   "cell_type": "code",
   "execution_count": 11,
   "id": "0b24c5b0",
   "metadata": {},
   "outputs": [
    {
     "name": "stdout",
     "output_type": "stream",
     "text": [
      "[0, 1, 1, 2, 3, 5, 8, 13, 21, 34, 55, 89]\n"
     ]
    }
   ],
   "source": [
    "fib = [0, 1]\n",
    "\n",
    "# Loop to append the sum of the last two items to the end of fib\n",
    "while len(fib) < 12:  # Adjust the condition based on how many Fibonacci numbers you want\n",
    "    fib.append(fib[-1] + fib[-2])\n",
    "\n",
    "print(fib)\n"
   ]
  },
  {
   "cell_type": "code",
   "execution_count": 12,
   "id": "51391da3",
   "metadata": {},
   "outputs": [
    {
     "name": "stdout",
     "output_type": "stream",
     "text": [
      "[0, 1, 1, 2, 3, 5, 8, 13, 21, 34, 55, 89, 144, 233, 377, 610, 987, 1597, 2584, 4181, 6765, 10946, 17711, 28657]\n"
     ]
    }
   ],
   "source": [
    "fib = [0, 1]\n",
    "\n",
    "# Loop to append the sum of the last two items to the end of fib\n",
    "while len(fib) < 24:  # Adjust the condition based on how many Fibonacci numbers you want\n",
    "    fib.append(fib[-1] + fib[-2])\n",
    "\n",
    "print(fib)"
   ]
  },
  {
   "cell_type": "code",
   "execution_count": 13,
   "id": "be1e030d",
   "metadata": {},
   "outputs": [
    {
     "name": "stdout",
     "output_type": "stream",
     "text": [
      "34\n"
     ]
    }
   ],
   "source": [
    "fib = [0, 1]\n",
    "\n",
    "# Loop to append the sum of the last two items to the end of fib\n",
    "while len(fib) < 10:\n",
    "    fib.append(fib[-1] + fib[-2])\n",
    "\n",
    "# Check the value of the last item in fib after ten iterations\n",
    "last_value = fib[-1]\n",
    "\n",
    "print(last_value)\n"
   ]
  },
  {
   "cell_type": "code",
   "execution_count": 14,
   "id": "dfef80b0",
   "metadata": {},
   "outputs": [
    {
     "name": "stdout",
     "output_type": "stream",
     "text": [
      "46\n",
      "303\n"
     ]
    }
   ],
   "source": [
    "def compute_primes(bound):\n",
    "    \"\"\"\n",
    "    Return a list of the prime numbers in range(2, bound)\n",
    "    \"\"\"\n",
    "    # Initialize a list to track prime status, starting assuming all are primes\n",
    "    is_prime = [True] * bound\n",
    "    \n",
    "    # 0 and 1 are not prime numbers\n",
    "    is_prime[0] = is_prime[1] = False\n",
    "    \n",
    "    p = 2\n",
    "    while p * p < bound:\n",
    "        if is_prime[p]:\n",
    "            # Mark multiples of p as non-prime starting from p^2\n",
    "            for multiple in range(p * p, bound, p):\n",
    "                is_prime[multiple] = False\n",
    "        p += 1\n",
    "    \n",
    "    # Collect all prime numbers from the is_prime list\n",
    "    primes = [num for num, prime in enumerate(is_prime) if prime]\n",
    "    \n",
    "    return primes\n",
    "\n",
    "print(len(compute_primes(200)))\n",
    "print(len(compute_primes(2000)))\n",
    "\n"
   ]
  },
  {
   "cell_type": "code",
   "execution_count": 15,
   "id": "3901f54b",
   "metadata": {},
   "outputs": [],
   "source": [
    "# Project Description: File Differences"
   ]
  },
  {
   "cell_type": "code",
   "execution_count": 16,
   "id": "d7ecb57d",
   "metadata": {},
   "outputs": [],
   "source": [
    "# Problem 1: Finding the first difference between two lines\n",
    "\n",
    "IDENTICAL = -1\n",
    "\n",
    "def singleline_diff(line1, line2):\n",
    "    \"\"\"\n",
    "    Inputs:\n",
    "      line1 - first single line string\n",
    "      line2 - second single line string\n",
    "    Output:\n",
    "      Returns the index where the first difference between\n",
    "      line1 and line2 occurs.\n",
    "\n",
    "      Returns IDENTICAL if the two lines are the same.\n",
    "    \"\"\"\n",
    "    # Find the minimum length of the two lines\n",
    "    min_len = min(len(line1), len(line2))\n",
    "    \n",
    "    # Compare characters of both lines up to the minimum length\n",
    "    for index in range(min_len):\n",
    "        if line1[index] != line2[index]:\n",
    "            return index\n",
    "    \n",
    "    # If no differences found within the range of the shorter line,\n",
    "    # check if the lengths of the lines are different\n",
    "    if len(line1) != len(line2):\n",
    "        return min_len\n",
    "    \n",
    "    # If lines are identical\n",
    "    return IDENTICAL\n"
   ]
  },
  {
   "cell_type": "code",
   "execution_count": 17,
   "id": "4b73b0d7",
   "metadata": {},
   "outputs": [
    {
     "name": "stdout",
     "output_type": "stream",
     "text": [
      "All test cases passed!\n"
     ]
    }
   ],
   "source": [
    "def test_singleline_diff():\n",
    "    # Define test cases\n",
    "    test_cases = [\n",
    "        (\"hello\", \"hello\", -1),\n",
    "        (\"hello\", \"heLlo\", 2),\n",
    "        (\"hello\", \"Hello\", 0),\n",
    "        (\"hello\", \"hellO\", 4),\n",
    "        (\"hello\", \"hell\", 4),\n",
    "        (\"abc\", \"defgh\", 0),\n",
    "        (\"\", \"\", -1),\n",
    "        (\"a\", \"\", 0),\n",
    "        (\"\", \"a\", 0),\n",
    "    ]\n",
    "    \n",
    "    # Iterate through test cases\n",
    "    for i, (line1, line2, expected) in enumerate(test_cases):\n",
    "        result = singleline_diff(line1, line2)\n",
    "        assert result == expected, f\"Test case {i + 1} failed: {result} != {expected}\"\n",
    "    \n",
    "    print(\"All test cases passed!\")\n",
    "\n",
    "# Run the test function\n",
    "test_singleline_diff()\n"
   ]
  },
  {
   "cell_type": "code",
   "execution_count": 18,
   "id": "d8a9765e",
   "metadata": {},
   "outputs": [],
   "source": [
    "def singleline_diff_format(line1, line2, idx):\n",
    "    \"\"\"\n",
    "    Inputs:\n",
    "      line1 - first single line string\n",
    "      line2 - second single line string\n",
    "      idx   - index at which to indicate difference\n",
    "    Output:\n",
    "      Returns a three line formatted string showing the location\n",
    "      of the first difference between line1 and line2.\n",
    "\n",
    "      If either input line contains a newline or carriage return,\n",
    "      then returns an empty string.\n",
    "\n",
    "      If idx is not a valid index, then returns an empty string.\n",
    "    \"\"\"\n",
    "    # Check for newline or carriage return characters\n",
    "    if '\\n' in line1 or '\\r' in line1 or '\\n' in line2 or '\\r' in line2:\n",
    "        return \"\"\n",
    "    \n",
    "    # Validate the index\n",
    "    if not (0 <= idx <= min(len(line1), len(line2))):\n",
    "        return \"\"\n",
    "    \n",
    "    # Construct the separator line\n",
    "    separator_line = \"=\" * idx + \"^\"\n",
    "    \n",
    "    # Construct and return the formatted string with an extra newline at the end\n",
    "    formatted_string = f\"{line1}\\n{separator_line}\\n{line2}\\n\"\n",
    "    return formatted_string\n"
   ]
  },
  {
   "cell_type": "code",
   "execution_count": 19,
   "id": "306c18d4",
   "metadata": {},
   "outputs": [
    {
     "data": {
      "text/plain": [
       "'abc\\n==^\\nabd\\n'"
      ]
     },
     "execution_count": 19,
     "metadata": {},
     "output_type": "execute_result"
    }
   ],
   "source": [
    "singleline_diff_format('abc', 'abd', 2)"
   ]
  },
  {
   "cell_type": "code",
   "execution_count": 20,
   "id": "a634e348",
   "metadata": {},
   "outputs": [
    {
     "ename": "AssertionError",
     "evalue": "Test case 9 failed: hello\n=====^\nhello\n != ",
     "output_type": "error",
     "traceback": [
      "\u001b[1;31m---------------------------------------------------------------------------\u001b[0m",
      "\u001b[1;31mAssertionError\u001b[0m                            Traceback (most recent call last)",
      "Cell \u001b[1;32mIn[20], line 23\u001b[0m\n\u001b[0;32m     20\u001b[0m     \u001b[38;5;28mprint\u001b[39m(\u001b[38;5;124m\"\u001b[39m\u001b[38;5;124mAll test cases passed!\u001b[39m\u001b[38;5;124m\"\u001b[39m)\n\u001b[0;32m     22\u001b[0m \u001b[38;5;66;03m# Run the test function\u001b[39;00m\n\u001b[1;32m---> 23\u001b[0m \u001b[43mtest_singleline_diff_format\u001b[49m\u001b[43m(\u001b[49m\u001b[43m)\u001b[49m\n",
      "Cell \u001b[1;32mIn[20], line 18\u001b[0m, in \u001b[0;36mtest_singleline_diff_format\u001b[1;34m()\u001b[0m\n\u001b[0;32m     16\u001b[0m \u001b[38;5;28;01mfor\u001b[39;00m i, (line1, line2, idx, expected) \u001b[38;5;129;01min\u001b[39;00m \u001b[38;5;28menumerate\u001b[39m(test_cases):\n\u001b[0;32m     17\u001b[0m     result \u001b[38;5;241m=\u001b[39m singleline_diff_format(line1, line2, idx)\n\u001b[1;32m---> 18\u001b[0m     \u001b[38;5;28;01massert\u001b[39;00m result \u001b[38;5;241m==\u001b[39m expected, \u001b[38;5;124mf\u001b[39m\u001b[38;5;124m\"\u001b[39m\u001b[38;5;124mTest case \u001b[39m\u001b[38;5;132;01m{\u001b[39;00mi \u001b[38;5;241m+\u001b[39m \u001b[38;5;241m1\u001b[39m\u001b[38;5;132;01m}\u001b[39;00m\u001b[38;5;124m failed: \u001b[39m\u001b[38;5;132;01m{\u001b[39;00mresult\u001b[38;5;132;01m}\u001b[39;00m\u001b[38;5;124m != \u001b[39m\u001b[38;5;132;01m{\u001b[39;00mexpected\u001b[38;5;132;01m}\u001b[39;00m\u001b[38;5;124m\"\u001b[39m\n\u001b[0;32m     20\u001b[0m \u001b[38;5;28mprint\u001b[39m(\u001b[38;5;124m\"\u001b[39m\u001b[38;5;124mAll test cases passed!\u001b[39m\u001b[38;5;124m\"\u001b[39m)\n",
      "\u001b[1;31mAssertionError\u001b[0m: Test case 9 failed: hello\n=====^\nhello\n != "
     ]
    }
   ],
   "source": [
    "def test_singleline_diff_format():\n",
    "    # Define test cases\n",
    "    test_cases = [\n",
    "        (\"abcd\", \"abef\", 2, \"abcd\\n==^\\nabef\\n\"),\n",
    "        (\"hello\", \"heLlo\", 2, \"hello\\n==^\\nheLlo\\n\"),\n",
    "        (\"hello\", \"Hello\", 0, \"hello\\n^\\nHello\\n\"),\n",
    "        (\"hello\", \"hellO\", 4, \"hello\\n====^\\nhellO\\n\"),\n",
    "        (\"hello\", \"hell\", 4, \"hello\\n====^\\nhell\\n\"),\n",
    "        (\"abc\", \"abc\", -1, \"\"), # Invalid index should return empty string\n",
    "        (\"\", \"\", 0, \"\\n^\\n\\n\"),  # Both lines are empty but idx is 0\n",
    "        (\"a\", \"b\", 0, \"a\\n^\\nb\\n\"),\n",
    "        (\"hello\", \"hello\", 5, \"\"),  # IDENTICAL case, invalid index\n",
    "    ]\n",
    "    \n",
    "    # Iterate through test cases\n",
    "    for i, (line1, line2, idx, expected) in enumerate(test_cases):\n",
    "        result = singleline_diff_format(line1, line2, idx)\n",
    "        assert result == expected, f\"Test case {i + 1} failed: {result} != {expected}\"\n",
    "    \n",
    "    print(\"All test cases passed!\")\n",
    "\n",
    "# Run the test function\n",
    "test_singleline_diff_format()\n",
    "\n"
   ]
  },
  {
   "cell_type": "code",
   "execution_count": 21,
   "id": "ebbe5b75",
   "metadata": {},
   "outputs": [],
   "source": [
    "def multiline_diff(lines1, lines2):\n",
    "    \"\"\"\n",
    "    Inputs:\n",
    "      lines1 - list of single line strings\n",
    "      lines2 - list of single line strings\n",
    "    Output:\n",
    "      Returns a tuple containing the line number (starting from 0) and\n",
    "      the index in that line where the first difference between lines1\n",
    "      and lines2 occurs.\n",
    "\n",
    "      Returns (IDENTICAL, IDENTICAL) if the two lists are the same.\n",
    "    \"\"\"\n",
    "    # Find the minimum length of the two lists\n",
    "    min_len = min(len(lines1), len(lines2))\n",
    "    \n",
    "    # Compare lines up to the length of the shorter list\n",
    "    for line_index in range(min_len):\n",
    "        char_index = singleline_diff(lines1[line_index], lines2[line_index])\n",
    "        if char_index != IDENTICAL:\n",
    "            return (line_index, char_index)\n",
    "    \n",
    "    # If no differences found within the range of the shorter list,\n",
    "    # check if the lengths of the lists are different\n",
    "    if len(lines1) != len(lines2):\n",
    "        return (min_len, 0)\n",
    "    \n",
    "    # If lists are identical\n",
    "    return (IDENTICAL, IDENTICAL)"
   ]
  },
  {
   "cell_type": "code",
   "execution_count": 22,
   "id": "ef365b25",
   "metadata": {},
   "outputs": [
    {
     "name": "stdout",
     "output_type": "stream",
     "text": [
      "All test cases passed!\n"
     ]
    }
   ],
   "source": [
    "def test_multiline_diff():\n",
    "    # Define test cases\n",
    "    test_cases = [\n",
    "        ([\"hello\", \"world\"], [\"hello\", \"world\"], (IDENTICAL, IDENTICAL)),\n",
    "        ([\"hello\", \"world\"], [\"hello\", \"World\"], (1, 0)),\n",
    "        ([\"hello\", \"world\"], [\"hello\", \"worLd\"], (1, 3)),\n",
    "        ([\"hello\", \"world\"], [\"hella\", \"world\"], (0, 4)),\n",
    "        ([\"hello\"], [\"hello\", \"world\"], (1, 0)),\n",
    "        ([\"hello\", \"world\"], [\"hello\"], (1, 0)),\n",
    "        ([], [], (IDENTICAL, IDENTICAL)),\n",
    "        ([\"a\"], [\"b\"], (0, 0)),\n",
    "        ([\"a\", \"b\", \"c\"], [\"a\", \"b\", \"c\", \"d\"], (3, 0)),\n",
    "        ([\"a\", \"b\", \"c\"], [\"a\", \"b\", \"x\"], (2, 0))\n",
    "    ]\n",
    "    \n",
    "    # Iterate through test cases\n",
    "    for i, (lines1, lines2, expected) in enumerate(test_cases):\n",
    "        result = multiline_diff(lines1, lines2)\n",
    "        assert result == expected, f\"Test case {i + 1} failed: {result} != {expected}\"\n",
    "    \n",
    "    print(\"All test cases passed!\")\n",
    "\n",
    "# Run the test function\n",
    "test_multiline_diff()\n"
   ]
  },
  {
   "cell_type": "code",
   "execution_count": 23,
   "id": "4d67f2b8",
   "metadata": {},
   "outputs": [],
   "source": [
    "def get_file_lines(filename):\n",
    "    \"\"\"\n",
    "    Inputs:\n",
    "      filename - name of file to read\n",
    "    Output:\n",
    "      Returns a list of lines from the file named filename. Each\n",
    "      line will be a single line string with no newline ('\\n') or\n",
    "      return ('\\r') characters.\n",
    "\n",
    "      If the file does not exist or is not readable, then the\n",
    "      behavior of this function is undefined.\n",
    "    \"\"\"\n",
    "    lines = []\n",
    "    with open(filename, 'r') as file:\n",
    "        for line in file:\n",
    "            lines.append(line.strip())\n",
    "    return lines\n"
   ]
  },
  {
   "cell_type": "code",
   "execution_count": 24,
   "id": "4e9e3992",
   "metadata": {},
   "outputs": [
    {
     "name": "stdout",
     "output_type": "stream",
     "text": [
      "Test passed!\n"
     ]
    }
   ],
   "source": [
    "def test_get_file_lines():\n",
    "    # Create a test file\n",
    "    test_filename = 'test_file.txt'\n",
    "    with open(test_filename, 'w') as file:\n",
    "        file.write(\"Hello, world!\\n\")\n",
    "        file.write(\"This is a test file.\\n\")\n",
    "        file.write(\"It contains multiple lines.\\n\")\n",
    "        file.write(\"Each line will be processed.\\n\")\n",
    "    \n",
    "    # Expected output\n",
    "    expected_output = [\n",
    "        \"Hello, world!\",\n",
    "        \"This is a test file.\",\n",
    "        \"It contains multiple lines.\",\n",
    "        \"Each line will be processed.\"\n",
    "    ]\n",
    "    \n",
    "    # Test the function\n",
    "    result = get_file_lines(test_filename)\n",
    "    assert result == expected_output, f\"Test failed: {result} != {expected_output}\"\n",
    "    \n",
    "    print(\"Test passed!\")\n",
    "\n",
    "# Run the test function\n",
    "test_get_file_lines()\n"
   ]
  },
  {
   "cell_type": "code",
   "execution_count": 25,
   "id": "c9d663a0",
   "metadata": {},
   "outputs": [],
   "source": [
    "def file_diff_format(filename1, filename2):\n",
    "    \"\"\"\n",
    "    Inputs:\n",
    "      filename1 - name of first file\n",
    "      filename2 - name of second file\n",
    "    Output:\n",
    "      Returns a four line string showing the location of the first\n",
    "      difference between the two files named by the inputs.\n",
    "\n",
    "      If the files are identical, the function instead returns the\n",
    "      string \"No differences\\n\".\n",
    "\n",
    "      If either file does not exist or is not readable, then the\n",
    "      behavior of this function is undefined.\n",
    "    \"\"\"\n",
    "    lines1 = get_file_lines(filename1)\n",
    "    lines2 = get_file_lines(filename2)\n",
    "    \n",
    "    line_index, char_index = multiline_diff(lines1, lines2)\n",
    "    \n",
    "    if line_index == IDENTICAL:\n",
    "        return \"No differences\\n\"\n",
    "    \n",
    "    diff_line1 = lines1[line_index]\n",
    "    diff_line2 = lines2[line_index]\n",
    "    formatted_diff = singleline_diff_format(diff_line1, diff_line2, char_index)\n",
    "    \n",
    "    return f\"Line {line_index}:\\n{formatted_diff}\""
   ]
  },
  {
   "cell_type": "code",
   "execution_count": 26,
   "id": "e849614f",
   "metadata": {},
   "outputs": [
    {
     "name": "stdout",
     "output_type": "stream",
     "text": [
      "Test passed!\n"
     ]
    }
   ],
   "source": [
    "# Test the function\n",
    "def test_file_diff_format():\n",
    "    # Create test files\n",
    "    with open('file1.txt', 'w') as f:\n",
    "        f.write(\"line1\\nline2\\nline3\\n\")\n",
    "    \n",
    "    with open('file2.txt', 'w') as f:\n",
    "        f.write(\"line1\\nlineX\\nline3\\n\")\n",
    "    \n",
    "    # Expected output\n",
    "    expected_output = \"Line 1:\\nline2\\n====^\\nlineX\\n\"\n",
    "    \n",
    "    # Test the function\n",
    "    result = file_diff_format('file1.txt', 'file2.txt')\n",
    "    assert result == expected_output, f\"Test failed: {result} != {expected_output}\"\n",
    "    \n",
    "    print(\"Test passed!\")\n",
    "\n",
    "# Run the test function\n",
    "test_file_diff_format()"
   ]
  },
  {
   "cell_type": "code",
   "execution_count": null,
   "id": "78041d6e",
   "metadata": {},
   "outputs": [],
   "source": []
  }
 ],
 "metadata": {
  "kernelspec": {
   "display_name": "Python 3 (ipykernel)",
   "language": "python",
   "name": "python3"
  },
  "language_info": {
   "codemirror_mode": {
    "name": "ipython",
    "version": 3
   },
   "file_extension": ".py",
   "mimetype": "text/x-python",
   "name": "python",
   "nbconvert_exporter": "python",
   "pygments_lexer": "ipython3",
   "version": "3.10.9"
  }
 },
 "nbformat": 4,
 "nbformat_minor": 5
}
