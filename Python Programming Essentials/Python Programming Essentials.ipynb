{
 "cells": [
  {
   "cell_type": "code",
   "execution_count": 1,
   "id": "35bea48f",
   "metadata": {},
   "outputs": [
    {
     "name": "stdout",
     "output_type": "stream",
     "text": [
      "f(f(f(f(f(f(f(674))))))) = 190\n"
     ]
    },
    {
     "data": {
      "text/plain": [
       "3053"
      ]
     },
     "execution_count": 1,
     "metadata": {},
     "output_type": "execute_result"
    }
   ],
   "source": [
    "def collatz(n):\n",
    "    if n % 2 == 0:\n",
    "        return n // 2\n",
    "    else:\n",
    "        return 3 * n + 1\n",
    "\n",
    "# Test the function with the expression f(f(f(f(f(f(f(674)))))))\n",
    "test_value = 674\n",
    "for _ in range(7):\n",
    "    test_value = collatz(test_value)\n",
    "print(\"f(f(f(f(f(f(f(674))))))) =\", test_value)\n",
    "\n",
    "# Compute the value of the expression f(f(f(f(f(f(f(f(f(f(f(f(f(f(1071))))))))))))))\n",
    "test_value_2 = 1071\n",
    "for _ in range(14):\n",
    "    test_value_2 = collatz(test_value_2)\n",
    "test_value_2\n"
   ]
  },
  {
   "cell_type": "code",
   "execution_count": 2,
   "id": "854f2267",
   "metadata": {},
   "outputs": [
    {
     "name": "stdout",
     "output_type": "stream",
     "text": [
      "f(f(f(f(f(f(f(674))))))) = 190\n",
      "f(f(f(f(f(f(f(f(f(f(f(f(f(f(1071)))))))))))))) = 3053\n"
     ]
    }
   ],
   "source": [
    "def collatz(n):\n",
    "    if n % 2 == 0:\n",
    "        return n // 2\n",
    "    else:\n",
    "        return 3 * n + 1\n",
    "\n",
    "# Test the function with the expression f(f(f(f(f(f(f(674)))))))\n",
    "test_value = 674\n",
    "for _ in range(7):\n",
    "    test_value = collatz(test_value)\n",
    "print(\"f(f(f(f(f(f(f(674))))))) =\", test_value)\n",
    "\n",
    "# Compute the value of the expression f(f(f(f(f(f(f(f(f(f(f(f(f(f(1071))))))))))))))\n",
    "test_value_2 = 1071\n",
    "for _ in range(14):\n",
    "    test_value_2 = collatz(test_value_2)\n",
    "print(\"f(f(f(f(f(f(f(f(f(f(f(f(f(f(1071)))))))))))))) =\", test_value_2)\n"
   ]
  },
  {
   "cell_type": "markdown",
   "id": "bc9da880",
   "metadata": {},
   "source": [
    "## Project Description: Working with Dates"
   ]
  },
  {
   "cell_type": "code",
   "execution_count": 3,
   "id": "31890376",
   "metadata": {},
   "outputs": [
    {
     "data": {
      "text/plain": [
       "'\\nProject for Week 4 of \"Python Programming Essentials\".\\nCollection of functions to process dates.\\n\\nBe sure to read the project description page for further information\\nabout the expected behavior of the program.\\n'"
      ]
     },
     "execution_count": 3,
     "metadata": {},
     "output_type": "execute_result"
    }
   ],
   "source": [
    "\"\"\"\n",
    "Project for Week 4 of \"Python Programming Essentials\".\n",
    "Collection of functions to process dates.\n",
    "\n",
    "Be sure to read the project description page for further information\n",
    "about the expected behavior of the program.\n",
    "\"\"\""
   ]
  },
  {
   "cell_type": "code",
   "execution_count": 4,
   "id": "646cfdf5",
   "metadata": {},
   "outputs": [],
   "source": [
    "import datetime\n",
    "\n",
    "def days_in_month(year, month):\n",
    "    \"\"\"\n",
    "    Inputs:\n",
    "      year  - an integer between datetime.MINYEAR and datetime.MAXYEAR\n",
    "              representing the year\n",
    "      month - an integer between 1 and 12 representing the month\n",
    "\n",
    "    Returns:\n",
    "      The number of days in the input month.\n",
    "    \"\"\"\n",
    "    if month == 12:\n",
    "        next_month = datetime.date(year + 1, 1, 1)\n",
    "    else:\n",
    "        next_month = datetime.date(year, month + 1, 1)\n",
    "    last_day_of_month = next_month - datetime.timedelta(days=1)\n",
    "    \n",
    "    return last_day_of_month.day\n",
    "\n",
    "def is_valid_date(year, month, day):\n",
    "    \"\"\"\n",
    "    Inputs:\n",
    "      year  - an integer representing the year\n",
    "      month - an integer representing the month\n",
    "      day   - an integer representing the day\n",
    "\n",
    "    Returns:\n",
    "      True if year-month-day is a valid date and\n",
    "      False otherwise\n",
    "    \"\"\"\n",
    "    try:\n",
    "        if datetime.MINYEAR <= year <= datetime.MAXYEAR and 1 <= month <= 12:\n",
    "            days = days_in_month(year, month)\n",
    "            if 1 <= day <= days:\n",
    "                return True\n",
    "        return False\n",
    "    except ValueError:\n",
    "        return False\n",
    "\n",
    "def days_between(year1, month1, day1, year2, month2, day2):\n",
    "    \"\"\"\n",
    "    Inputs:\n",
    "      year1  - an integer representing the year of the first date\n",
    "      month1 - an integer representing the month of the first date\n",
    "      day1   - an integer representing the day of the first date\n",
    "      year2  - an integer representing the year of the second date\n",
    "      month2 - an integer representing the month of the second date\n",
    "      day2   - an integer representing the day of the second date\n",
    "\n",
    "    Returns:\n",
    "      The number of days from the first date to the second date.\n",
    "      Returns 0 if either date is invalid or the second date is\n",
    "      before the first date.\n",
    "    \"\"\"\n",
    "    if not (is_valid_date(year1, month1, day1) and is_valid_date(year2, month2, day2)):\n",
    "        return 0\n",
    "\n",
    "    date1 = datetime.date(year1, month1, day1)\n",
    "    date2 = datetime.date(year2, month2, day2)\n",
    "\n",
    "    if date2 < date1:\n",
    "        return 0\n",
    "\n",
    "    delta = date2 - date1\n",
    "    return delta.days\n",
    "\n",
    "def age_in_days(year, month, day):\n",
    "    \"\"\"\n",
    "    Inputs:\n",
    "      year  - an integer representing the birthday year\n",
    "      month - an integer representing the birthday month\n",
    "      day   - an integer representing the birthday day\n",
    "\n",
    "    Returns:\n",
    "      The age of a person with the input birthday as of today.\n",
    "      Returns 0 if the input date is invalid or if the input\n",
    "      date is in the future.\n",
    "    \"\"\"\n",
    "    today = datetime.date.today()\n",
    "    if not is_valid_date(year, month, day):\n",
    "        return 0\n",
    "    \n",
    "    birth_date = datetime.date(year, month, day)\n",
    "    if today < birth_date:\n",
    "        return 0\n",
    "\n",
    "    return days_between(year, month, day, today.year, today.month, today.day)"
   ]
  },
  {
   "cell_type": "code",
   "execution_count": 5,
   "id": "67da067b",
   "metadata": {},
   "outputs": [
    {
     "name": "stdout",
     "output_type": "stream",
     "text": [
      "29\n",
      "30\n",
      "31\n"
     ]
    }
   ],
   "source": [
    "# Test the function\n",
    "print(days_in_month(2024, 2))  # Leap year February, should return 29\n",
    "print(days_in_month(2024, 4))  # April, should return 30\n",
    "print(days_in_month(2024, 1))  # January, should return 31"
   ]
  },
  {
   "cell_type": "code",
   "execution_count": 6,
   "id": "e61a002c",
   "metadata": {},
   "outputs": [
    {
     "name": "stdout",
     "output_type": "stream",
     "text": [
      "True\n",
      "False\n",
      "False\n",
      "True\n"
     ]
    }
   ],
   "source": [
    "# Test the function\n",
    "print(is_valid_date(2024, 2, 29))  # True, leap year\n",
    "print(is_valid_date(2023, 2, 29))  # False, not a leap year\n",
    "print(is_valid_date(2024, 4, 31))  # False, April has 30 days\n",
    "print(is_valid_date(2024, 1, 31))  # True, valid date"
   ]
  },
  {
   "cell_type": "code",
   "execution_count": 7,
   "id": "72751379",
   "metadata": {},
   "outputs": [
    {
     "name": "stdout",
     "output_type": "stream",
     "text": [
      "2\n",
      "0\n",
      "1\n",
      "0\n",
      "0\n"
     ]
    }
   ],
   "source": [
    "# Test the function\n",
    "print(days_between(2024, 2, 28, 2024, 3, 1))  # 2 days\n",
    "print(days_between(2024, 2, 28, 2024, 2, 28))  # 0 days, same date\n",
    "print(days_between(2024, 2, 29, 2024, 3, 1))  # 1 day, valid leap year date\n",
    "print(days_between(2023, 2, 29, 2024, 3, 1))  # 0, invalid date\n",
    "print(days_between(2024, 4, 1, 2024, 3, 1))   # 0, second date is earlier"
   ]
  },
  {
   "cell_type": "code",
   "execution_count": 8,
   "id": "a8de9706",
   "metadata": {},
   "outputs": [
    {
     "name": "stdout",
     "output_type": "stream",
     "text": [
      "8943\n",
      "0\n",
      "118\n",
      "0\n"
     ]
    }
   ],
   "source": [
    "# Test the function\n",
    "print(age_in_days(2000, 1, 1))  # Should return the age in days\n",
    "print(age_in_days(2025, 1, 1))  # Future date, should return 0\n",
    "print(age_in_days(2024, 2, 29)) # Valid leap year, should return age in days\n",
    "print(age_in_days(2023, 2, 29)) # Invalid date, should return 0"
   ]
  },
  {
   "cell_type": "code",
   "execution_count": null,
   "id": "cf0071a8",
   "metadata": {},
   "outputs": [],
   "source": []
  }
 ],
 "metadata": {
  "kernelspec": {
   "display_name": "Python 3 (ipykernel)",
   "language": "python",
   "name": "python3"
  },
  "language_info": {
   "codemirror_mode": {
    "name": "ipython",
    "version": 3
   },
   "file_extension": ".py",
   "mimetype": "text/x-python",
   "name": "python",
   "nbconvert_exporter": "python",
   "pygments_lexer": "ipython3",
   "version": "3.10.9"
  }
 },
 "nbformat": 4,
 "nbformat_minor": 5
}
